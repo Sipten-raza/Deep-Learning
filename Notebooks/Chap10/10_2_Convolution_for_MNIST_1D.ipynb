{
  "nbformat": 4,
  "nbformat_minor": 0,
  "metadata": {
    "colab": {
      "provenance": [],
      "include_colab_link": true
    },
    "kernelspec": {
      "name": "python3",
      "display_name": "Python 3"
    },
    "language_info": {
      "name": "python"
    }
  },
  "cells": [
    {
      "cell_type": "markdown",
      "metadata": {
        "id": "view-in-github",
        "colab_type": "text"
      },
      "source": [
        "<a href=\"https://colab.research.google.com/github/Sipten-raza/Deep-Learning/blob/main/Notebooks/Chap10/10_2_Convolution_for_MNIST_1D.ipynb\" target=\"_parent\"><img src=\"https://colab.research.google.com/assets/colab-badge.svg\" alt=\"Open In Colab\"/></a>"
      ]
    },
    {
      "cell_type": "markdown",
      "source": [
        "# **Notebook 10.2: Convolution for MNIST-1D**\n",
        "\n",
        "This notebook investigates a 1D convolutional network for MNIST-1D as in figure 10.7 and 10.8a.\n",
        "\n",
        "Work through the cells below, running each cell in turn. In various places you will see the words \"TODO\". Follow the instructions at these places and make predictions about what is going to happen or write code to complete the functions.\n",
        "\n",
        "Contact me at udlbookmail@gmail.com if you find any mistakes or have any suggestions.\n",
        "\n"
      ],
      "metadata": {
        "id": "t9vk9Elugvmi"
      }
    },
    {
      "cell_type": "code",
      "source": [
        "# Run this if you're in a Colab to install MNIST 1D repository\n",
        "!pip install git+https://github.com/greydanus/mnist1d"
      ],
      "metadata": {
        "id": "D5yLObtZCi9J",
        "outputId": "31bf0d72-acf9-4193-b131-2e89aaa16323",
        "colab": {
          "base_uri": "https://localhost:8080/"
        }
      },
      "execution_count": 1,
      "outputs": [
        {
          "output_type": "stream",
          "name": "stdout",
          "text": [
            "Collecting git+https://github.com/greydanus/mnist1d\n",
            "  Cloning https://github.com/greydanus/mnist1d to /tmp/pip-req-build-sqxfs90x\n",
            "  Running command git clone --filter=blob:none --quiet https://github.com/greydanus/mnist1d /tmp/pip-req-build-sqxfs90x\n",
            "  Resolved https://github.com/greydanus/mnist1d to commit 7878d96082abd200c546a07a4101fa90b30fdf7e\n",
            "  Installing build dependencies ... \u001b[?25l\u001b[?25hdone\n",
            "  Getting requirements to build wheel ... \u001b[?25l\u001b[?25hdone\n",
            "  Preparing metadata (pyproject.toml) ... \u001b[?25l\u001b[?25hdone\n",
            "Requirement already satisfied: requests in /usr/local/lib/python3.11/dist-packages (from mnist1d==0.0.2.post16) (2.32.3)\n",
            "Requirement already satisfied: numpy in /usr/local/lib/python3.11/dist-packages (from mnist1d==0.0.2.post16) (2.0.2)\n",
            "Requirement already satisfied: matplotlib in /usr/local/lib/python3.11/dist-packages (from mnist1d==0.0.2.post16) (3.10.0)\n",
            "Requirement already satisfied: scipy in /usr/local/lib/python3.11/dist-packages (from mnist1d==0.0.2.post16) (1.15.2)\n",
            "Requirement already satisfied: contourpy>=1.0.1 in /usr/local/lib/python3.11/dist-packages (from matplotlib->mnist1d==0.0.2.post16) (1.3.2)\n",
            "Requirement already satisfied: cycler>=0.10 in /usr/local/lib/python3.11/dist-packages (from matplotlib->mnist1d==0.0.2.post16) (0.12.1)\n",
            "Requirement already satisfied: fonttools>=4.22.0 in /usr/local/lib/python3.11/dist-packages (from matplotlib->mnist1d==0.0.2.post16) (4.57.0)\n",
            "Requirement already satisfied: kiwisolver>=1.3.1 in /usr/local/lib/python3.11/dist-packages (from matplotlib->mnist1d==0.0.2.post16) (1.4.8)\n",
            "Requirement already satisfied: packaging>=20.0 in /usr/local/lib/python3.11/dist-packages (from matplotlib->mnist1d==0.0.2.post16) (24.2)\n",
            "Requirement already satisfied: pillow>=8 in /usr/local/lib/python3.11/dist-packages (from matplotlib->mnist1d==0.0.2.post16) (11.2.1)\n",
            "Requirement already satisfied: pyparsing>=2.3.1 in /usr/local/lib/python3.11/dist-packages (from matplotlib->mnist1d==0.0.2.post16) (3.2.3)\n",
            "Requirement already satisfied: python-dateutil>=2.7 in /usr/local/lib/python3.11/dist-packages (from matplotlib->mnist1d==0.0.2.post16) (2.9.0.post0)\n",
            "Requirement already satisfied: charset-normalizer<4,>=2 in /usr/local/lib/python3.11/dist-packages (from requests->mnist1d==0.0.2.post16) (3.4.1)\n",
            "Requirement already satisfied: idna<4,>=2.5 in /usr/local/lib/python3.11/dist-packages (from requests->mnist1d==0.0.2.post16) (3.10)\n",
            "Requirement already satisfied: urllib3<3,>=1.21.1 in /usr/local/lib/python3.11/dist-packages (from requests->mnist1d==0.0.2.post16) (2.4.0)\n",
            "Requirement already satisfied: certifi>=2017.4.17 in /usr/local/lib/python3.11/dist-packages (from requests->mnist1d==0.0.2.post16) (2025.4.26)\n",
            "Requirement already satisfied: six>=1.5 in /usr/local/lib/python3.11/dist-packages (from python-dateutil>=2.7->matplotlib->mnist1d==0.0.2.post16) (1.17.0)\n",
            "Building wheels for collected packages: mnist1d\n",
            "  Building wheel for mnist1d (pyproject.toml) ... \u001b[?25l\u001b[?25hdone\n",
            "  Created wheel for mnist1d: filename=mnist1d-0.0.2.post16-py3-none-any.whl size=14663 sha256=9ba00fc91e3228b77032b22e1fb62c610ada688de536520dd8f94d00fc600853\n",
            "  Stored in directory: /tmp/pip-ephem-wheel-cache-k5dzt1wa/wheels/d6/38/42/3d2112bc7d915f6195254ac85eb761d922d1b18f52817aa8e2\n",
            "Successfully built mnist1d\n",
            "Installing collected packages: mnist1d\n",
            "Successfully installed mnist1d-0.0.2.post16\n"
          ]
        }
      ]
    },
    {
      "cell_type": "code",
      "source": [
        "import numpy as np\n",
        "import os\n",
        "import torch, torch.nn as nn\n",
        "from torch.utils.data import TensorDataset, DataLoader\n",
        "from torch.optim.lr_scheduler import StepLR\n",
        "import matplotlib.pyplot as plt\n",
        "import mnist1d\n",
        "import random"
      ],
      "metadata": {
        "id": "YrXWAH7sUWvU"
      },
      "execution_count": 2,
      "outputs": []
    },
    {
      "cell_type": "code",
      "source": [
        "args = mnist1d.data.get_dataset_args()\n",
        "data = mnist1d.data.get_dataset(args, path='./mnist1d_data.pkl', download=False, regenerate=False)\n",
        "\n",
        "# The training and test input and outputs are in\n",
        "# data['x'], data['y'], data['x_test'], and data['y_test']\n",
        "print(\"Examples in training set: {}\".format(len(data['y'])))\n",
        "print(\"Examples in test set: {}\".format(len(data['y_test'])))\n",
        "print(\"Length of each example: {}\".format(data['x'].shape[-1]))"
      ],
      "metadata": {
        "id": "twI72ZCrCt5z",
        "outputId": "36b917ae-67dc-4087-d063-7d133301c97b",
        "colab": {
          "base_uri": "https://localhost:8080/"
        }
      },
      "execution_count": 3,
      "outputs": [
        {
          "output_type": "stream",
          "name": "stdout",
          "text": [
            "Did or could not load data from ./mnist1d_data.pkl. Rebuilding dataset...\n",
            "Examples in training set: 4000\n",
            "Examples in test set: 1000\n",
            "Length of each example: 40\n"
          ]
        }
      ]
    },
    {
      "cell_type": "code",
      "source": [
        "# Load in the data\n",
        "train_data_x = data['x'].transpose()\n",
        "train_data_y = data['y']\n",
        "val_data_x = data['x_test'].transpose()\n",
        "val_data_y = data['y_test']\n",
        "# Print out sizes\n",
        "print(\"Train data: %d examples (columns), each of which has %d dimensions (rows)\"%((train_data_x.shape[1],train_data_x.shape[0])))\n",
        "print(\"Validation data: %d examples (columns), each of which has %d dimensions (rows)\"%((val_data_x.shape[1],val_data_x.shape[0])))"
      ],
      "metadata": {
        "id": "8bKADvLHbiV5",
        "outputId": "16d61e4b-dc64-47d3-8cb0-337c0d0ebebd",
        "colab": {
          "base_uri": "https://localhost:8080/"
        }
      },
      "execution_count": 4,
      "outputs": [
        {
          "output_type": "stream",
          "name": "stdout",
          "text": [
            "Train data: 4000 examples (columns), each of which has 40 dimensions (rows)\n",
            "Validation data: 1000 examples (columns), each of which has 40 dimensions (rows)\n"
          ]
        }
      ]
    },
    {
      "cell_type": "markdown",
      "source": [
        "Define the network"
      ],
      "metadata": {
        "id": "_sFvRDGrl4qe"
      }
    },
    {
      "cell_type": "code",
      "source": [
        "import torch.nn as nn\n",
        "\n",
        "D_i = 40  # Input length\n",
        "D_o = 10  # Number of output classes (digits 0-9)\n",
        "\n",
        "model = nn.Sequential(\n",
        "    # 1. Conv1D: input_channels=1, output_channels=15, kernel_size=3, stride=2, padding=0\n",
        "    nn.Conv1d(in_channels=1, out_channels=15, kernel_size=3, stride=2, padding=0),  # Output: (15, 19)\n",
        "    nn.ReLU(),\n",
        "\n",
        "    # 2. Conv1D: input_channels=15, output_channels=15, kernel_size=3, stride=2, padding=0\n",
        "    nn.Conv1d(in_channels=15, out_channels=15, kernel_size=3, stride=2, padding=0),  # Output: (15, 9)\n",
        "    nn.ReLU(),\n",
        "\n",
        "    # 3. Conv1D: input_channels=15, output_channels=15, kernel_size=3, stride=2, padding=0\n",
        "    nn.Conv1d(in_channels=15, out_channels=15, kernel_size=3, stride=2, padding=0),  # Output: (15, 4)\n",
        "    nn.ReLU(),\n",
        "\n",
        "    # 4. Flatten: from (batch_size, 15, 4) to (batch_size, 60)\n",
        "    nn.Flatten(),\n",
        "\n",
        "    # 5. Linear: input_features=60, output_features=10\n",
        "    nn.Linear(in_features=60, out_features=10)\n",
        ")\n"
      ],
      "metadata": {
        "id": "FslroPJJffrh"
      },
      "execution_count": 5,
      "outputs": []
    },
    {
      "cell_type": "code",
      "source": [
        "# He initialization of weights\n",
        "def weights_init(layer_in):\n",
        "  if isinstance(layer_in, nn.Linear):\n",
        "    nn.init.kaiming_uniform_(layer_in.weight)\n",
        "    layer_in.bias.data.fill_(0.0)"
      ],
      "metadata": {
        "id": "YgLaex1pfhqz"
      },
      "execution_count": 6,
      "outputs": []
    },
    {
      "cell_type": "code",
      "source": [
        "# choose cross entropy loss function (equation 5.24 in the loss notes)\n",
        "loss_function = nn.CrossEntropyLoss()\n",
        "# construct SGD optimizer and initialize learning rate and momentum\n",
        "optimizer = torch.optim.SGD(model.parameters(), lr = 0.05, momentum=0.9)\n",
        "# object that decreases learning rate by half every 20 epochs\n",
        "scheduler = StepLR(optimizer, step_size=20, gamma=0.5)\n",
        "# create 100 dummy data points and store in data loader class\n",
        "x_train = torch.tensor(train_data_x.transpose().astype('float32'))\n",
        "y_train = torch.tensor(train_data_y.astype('long')).long()\n",
        "x_val= torch.tensor(val_data_x.transpose().astype('float32'))\n",
        "y_val = torch.tensor(val_data_y.astype('long')).long()\n",
        "\n",
        "# load the data into a class that creates the batches\n",
        "data_loader = DataLoader(TensorDataset(x_train,y_train), batch_size=100, shuffle=True, worker_init_fn=np.random.seed(1))\n",
        "\n",
        "# Initialize model weights\n",
        "model.apply(weights_init)\n",
        "\n",
        "# loop over the dataset n_epoch times\n",
        "n_epoch = 100\n",
        "# store the loss and the % correct at each epoch\n",
        "losses_train = np.zeros((n_epoch))\n",
        "errors_train = np.zeros((n_epoch))\n",
        "losses_val = np.zeros((n_epoch))\n",
        "errors_val = np.zeros((n_epoch))\n",
        "\n",
        "for epoch in range(n_epoch):\n",
        "  # loop over batches\n",
        "  for i, data in enumerate(data_loader):\n",
        "    # retrieve inputs and labels for this batch\n",
        "    x_batch, y_batch = data\n",
        "    # zero the parameter gradients\n",
        "    optimizer.zero_grad()\n",
        "    # forward pass -- calculate model output\n",
        "    pred = model(x_batch[:,None,:])\n",
        "    # compute the loss\n",
        "    loss = loss_function(pred, y_batch)\n",
        "    # backward pass\n",
        "    loss.backward()\n",
        "    # SGD update\n",
        "    optimizer.step()\n",
        "\n",
        "  # Run whole dataset to get statistics -- normally wouldn't do this\n",
        "  pred_train = model(x_train[:,None,:])\n",
        "  pred_val = model(x_val[:,None,:])\n",
        "  _, predicted_train_class = torch.max(pred_train.data, 1)\n",
        "  _, predicted_val_class = torch.max(pred_val.data, 1)\n",
        "  errors_train[epoch] = 100 - 100 * (predicted_train_class == y_train).float().sum() / len(y_train)\n",
        "  errors_val[epoch]= 100 - 100 * (predicted_val_class == y_val).float().sum() / len(y_val)\n",
        "  losses_train[epoch] = loss_function(pred_train, y_train).item()\n",
        "  losses_val[epoch]= loss_function(pred_val, y_val).item()\n",
        "  print(f'Epoch {epoch:5d}, train loss {losses_train[epoch]:.6f}, train error {errors_train[epoch]:3.2f},  val loss {losses_val[epoch]:.6f}, percent error {errors_val[epoch]:3.2f}')\n",
        "\n",
        "  # tell scheduler to consider updating learning rate\n",
        "  scheduler.step()\n",
        "\n",
        "# Plot the results\n",
        "fig, ax = plt.subplots()\n",
        "ax.plot(errors_train,'r-',label='train')\n",
        "ax.plot(errors_val,'b-',label='validation')\n",
        "ax.set_ylim(0,100); ax.set_xlim(0,n_epoch)\n",
        "ax.set_xlabel('Epoch'); ax.set_ylabel('Error')\n",
        "ax.set_title('Part I: Validation Result %3.2f'%(errors_val[-1]))\n",
        "ax.legend()\n",
        "plt.show()"
      ],
      "metadata": {
        "id": "NYw8I_3mmX5c",
        "outputId": "5400a271-f53c-4ab1-aa47-aaf0f32518f1",
        "colab": {
          "base_uri": "https://localhost:8080/",
          "height": 1000
        }
      },
      "execution_count": 7,
      "outputs": [
        {
          "output_type": "stream",
          "name": "stdout",
          "text": [
            "Epoch     0, train loss 1.983419, train error 78.05,  val loss 1.992516, percent error 77.10\n",
            "Epoch     1, train loss 1.567205, train error 63.83,  val loss 1.584195, percent error 67.70\n",
            "Epoch     2, train loss 1.450611, train error 60.50,  val loss 1.449229, percent error 62.00\n",
            "Epoch     3, train loss 1.350888, train error 54.40,  val loss 1.360937, percent error 57.50\n",
            "Epoch     4, train loss 1.267599, train error 51.78,  val loss 1.316898, percent error 55.20\n",
            "Epoch     5, train loss 1.125300, train error 44.97,  val loss 1.158484, percent error 48.80\n",
            "Epoch     6, train loss 1.110890, train error 45.28,  val loss 1.150832, percent error 47.90\n",
            "Epoch     7, train loss 0.980605, train error 40.05,  val loss 1.029908, percent error 43.30\n",
            "Epoch     8, train loss 0.921922, train error 37.15,  val loss 0.966533, percent error 40.20\n",
            "Epoch     9, train loss 0.838602, train error 34.50,  val loss 0.905515, percent error 37.50\n",
            "Epoch    10, train loss 0.805765, train error 33.53,  val loss 0.883423, percent error 37.10\n",
            "Epoch    11, train loss 0.761890, train error 30.57,  val loss 0.842214, percent error 32.70\n",
            "Epoch    12, train loss 0.659071, train error 27.10,  val loss 0.746616, percent error 29.60\n",
            "Epoch    13, train loss 0.572939, train error 21.85,  val loss 0.684677, percent error 27.10\n",
            "Epoch    14, train loss 0.499181, train error 19.00,  val loss 0.584391, percent error 22.20\n",
            "Epoch    15, train loss 0.567226, train error 20.65,  val loss 0.680233, percent error 25.60\n",
            "Epoch    16, train loss 0.562561, train error 21.35,  val loss 0.687778, percent error 27.30\n",
            "Epoch    17, train loss 0.437632, train error 16.35,  val loss 0.543280, percent error 20.00\n",
            "Epoch    18, train loss 0.344117, train error 11.78,  val loss 0.464806, percent error 17.80\n",
            "Epoch    19, train loss 0.383135, train error 14.00,  val loss 0.520808, percent error 18.00\n",
            "Epoch    20, train loss 0.277969, train error 10.18,  val loss 0.419008, percent error 14.60\n",
            "Epoch    21, train loss 0.234025, train error 7.72,  val loss 0.398527, percent error 13.80\n",
            "Epoch    22, train loss 0.237541, train error 8.15,  val loss 0.431310, percent error 14.20\n",
            "Epoch    23, train loss 0.227756, train error 7.88,  val loss 0.416368, percent error 14.50\n",
            "Epoch    24, train loss 0.256062, train error 9.22,  val loss 0.447336, percent error 14.60\n",
            "Epoch    25, train loss 0.205724, train error 7.03,  val loss 0.413088, percent error 13.30\n",
            "Epoch    26, train loss 0.194068, train error 6.75,  val loss 0.398774, percent error 13.90\n",
            "Epoch    27, train loss 0.174337, train error 5.70,  val loss 0.391656, percent error 13.40\n",
            "Epoch    28, train loss 0.208178, train error 7.12,  val loss 0.409964, percent error 13.30\n",
            "Epoch    29, train loss 0.177127, train error 6.18,  val loss 0.388901, percent error 12.80\n",
            "Epoch    30, train loss 0.166211, train error 5.55,  val loss 0.389579, percent error 13.40\n",
            "Epoch    31, train loss 0.160820, train error 5.47,  val loss 0.386169, percent error 12.10\n",
            "Epoch    32, train loss 0.135602, train error 4.43,  val loss 0.357357, percent error 11.80\n",
            "Epoch    33, train loss 0.132623, train error 4.32,  val loss 0.351243, percent error 11.80\n",
            "Epoch    34, train loss 0.128782, train error 3.97,  val loss 0.350500, percent error 11.40\n",
            "Epoch    35, train loss 0.141265, train error 4.97,  val loss 0.396127, percent error 12.40\n",
            "Epoch    36, train loss 0.135744, train error 4.70,  val loss 0.377429, percent error 11.50\n",
            "Epoch    37, train loss 0.132606, train error 4.60,  val loss 0.395792, percent error 11.80\n",
            "Epoch    38, train loss 0.099203, train error 3.00,  val loss 0.352251, percent error 11.50\n",
            "Epoch    39, train loss 0.084569, train error 2.25,  val loss 0.335596, percent error 11.80\n",
            "Epoch    40, train loss 0.083703, train error 2.30,  val loss 0.348682, percent error 11.40\n",
            "Epoch    41, train loss 0.077185, train error 2.07,  val loss 0.340018, percent error 10.80\n",
            "Epoch    42, train loss 0.074624, train error 1.90,  val loss 0.355698, percent error 11.80\n",
            "Epoch    43, train loss 0.073655, train error 2.18,  val loss 0.356744, percent error 11.50\n",
            "Epoch    44, train loss 0.068910, train error 1.68,  val loss 0.362616, percent error 11.70\n",
            "Epoch    45, train loss 0.067166, train error 1.55,  val loss 0.350759, percent error 11.20\n",
            "Epoch    46, train loss 0.066005, train error 1.45,  val loss 0.364922, percent error 12.00\n",
            "Epoch    47, train loss 0.063969, train error 1.22,  val loss 0.353935, percent error 11.50\n",
            "Epoch    48, train loss 0.065121, train error 1.40,  val loss 0.357258, percent error 10.90\n",
            "Epoch    49, train loss 0.060597, train error 1.15,  val loss 0.360270, percent error 11.50\n",
            "Epoch    50, train loss 0.059244, train error 1.30,  val loss 0.349050, percent error 11.10\n",
            "Epoch    51, train loss 0.064018, train error 1.55,  val loss 0.370164, percent error 11.00\n",
            "Epoch    52, train loss 0.058585, train error 1.32,  val loss 0.361780, percent error 11.10\n",
            "Epoch    53, train loss 0.056290, train error 1.12,  val loss 0.354617, percent error 10.40\n",
            "Epoch    54, train loss 0.055856, train error 1.12,  val loss 0.351465, percent error 11.20\n",
            "Epoch    55, train loss 0.052451, train error 0.97,  val loss 0.356377, percent error 10.60\n",
            "Epoch    56, train loss 0.052453, train error 1.00,  val loss 0.354728, percent error 10.00\n",
            "Epoch    57, train loss 0.048838, train error 1.05,  val loss 0.371012, percent error 11.30\n",
            "Epoch    58, train loss 0.048785, train error 0.95,  val loss 0.365160, percent error 10.60\n",
            "Epoch    59, train loss 0.046578, train error 0.82,  val loss 0.365106, percent error 10.50\n",
            "Epoch    60, train loss 0.045854, train error 0.80,  val loss 0.361338, percent error 10.80\n",
            "Epoch    61, train loss 0.043472, train error 0.72,  val loss 0.366105, percent error 11.00\n",
            "Epoch    62, train loss 0.043333, train error 0.70,  val loss 0.367184, percent error 10.90\n",
            "Epoch    63, train loss 0.043758, train error 0.78,  val loss 0.370576, percent error 11.10\n",
            "Epoch    64, train loss 0.042179, train error 0.68,  val loss 0.375997, percent error 11.30\n",
            "Epoch    65, train loss 0.042528, train error 0.80,  val loss 0.368100, percent error 10.20\n",
            "Epoch    66, train loss 0.040887, train error 0.65,  val loss 0.370086, percent error 11.20\n",
            "Epoch    67, train loss 0.040448, train error 0.68,  val loss 0.377269, percent error 11.30\n",
            "Epoch    68, train loss 0.040053, train error 0.55,  val loss 0.372396, percent error 10.60\n",
            "Epoch    69, train loss 0.039446, train error 0.70,  val loss 0.378590, percent error 10.90\n",
            "Epoch    70, train loss 0.039908, train error 0.65,  val loss 0.378583, percent error 10.70\n",
            "Epoch    71, train loss 0.038663, train error 0.57,  val loss 0.370271, percent error 10.70\n",
            "Epoch    72, train loss 0.038251, train error 0.62,  val loss 0.380646, percent error 10.90\n",
            "Epoch    73, train loss 0.037863, train error 0.60,  val loss 0.377652, percent error 11.00\n",
            "Epoch    74, train loss 0.037827, train error 0.53,  val loss 0.381231, percent error 11.20\n",
            "Epoch    75, train loss 0.036958, train error 0.47,  val loss 0.386233, percent error 11.10\n",
            "Epoch    76, train loss 0.036133, train error 0.47,  val loss 0.381684, percent error 10.80\n",
            "Epoch    77, train loss 0.037124, train error 0.50,  val loss 0.389001, percent error 10.70\n",
            "Epoch    78, train loss 0.035967, train error 0.53,  val loss 0.390177, percent error 10.90\n",
            "Epoch    79, train loss 0.034837, train error 0.45,  val loss 0.387020, percent error 11.40\n",
            "Epoch    80, train loss 0.034228, train error 0.40,  val loss 0.387918, percent error 11.30\n",
            "Epoch    81, train loss 0.033777, train error 0.38,  val loss 0.384578, percent error 11.20\n",
            "Epoch    82, train loss 0.033605, train error 0.35,  val loss 0.382909, percent error 11.00\n",
            "Epoch    83, train loss 0.033348, train error 0.38,  val loss 0.387507, percent error 11.10\n",
            "Epoch    84, train loss 0.033269, train error 0.38,  val loss 0.387455, percent error 11.40\n",
            "Epoch    85, train loss 0.033556, train error 0.38,  val loss 0.390243, percent error 11.10\n",
            "Epoch    86, train loss 0.032836, train error 0.38,  val loss 0.388573, percent error 11.30\n",
            "Epoch    87, train loss 0.032732, train error 0.35,  val loss 0.387886, percent error 10.60\n",
            "Epoch    88, train loss 0.032700, train error 0.32,  val loss 0.389187, percent error 11.10\n",
            "Epoch    89, train loss 0.032116, train error 0.38,  val loss 0.387442, percent error 11.20\n",
            "Epoch    90, train loss 0.031880, train error 0.38,  val loss 0.389073, percent error 11.30\n",
            "Epoch    91, train loss 0.031829, train error 0.35,  val loss 0.387992, percent error 11.00\n",
            "Epoch    92, train loss 0.031982, train error 0.30,  val loss 0.395643, percent error 11.60\n",
            "Epoch    93, train loss 0.031446, train error 0.38,  val loss 0.390107, percent error 10.90\n",
            "Epoch    94, train loss 0.031537, train error 0.28,  val loss 0.394240, percent error 11.10\n",
            "Epoch    95, train loss 0.031438, train error 0.30,  val loss 0.394690, percent error 11.30\n",
            "Epoch    96, train loss 0.031326, train error 0.38,  val loss 0.395149, percent error 11.10\n",
            "Epoch    97, train loss 0.030833, train error 0.30,  val loss 0.395994, percent error 11.30\n",
            "Epoch    98, train loss 0.030878, train error 0.35,  val loss 0.393863, percent error 10.80\n",
            "Epoch    99, train loss 0.030550, train error 0.28,  val loss 0.398895, percent error 11.20\n"
          ]
        },
        {
          "output_type": "display_data",
          "data": {
            "text/plain": [
              "<Figure size 640x480 with 1 Axes>"
            ],
            "image/png": "[encoded data removed]"
          },
          "metadata": {}
        }
      ]
    }
  ]
}